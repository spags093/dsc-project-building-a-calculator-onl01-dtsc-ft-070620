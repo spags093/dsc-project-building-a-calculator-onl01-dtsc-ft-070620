{
 "cells": [
  {
   "cell_type": "markdown",
   "metadata": {},
   "source": [
    "# Functions Practice: Building a Calculator\n",
    "\n",
    "\n",
    "## Introduction \n",
    "\n",
    "In this project, you'll create a simple calculator which can perform basic arithmetic operations like addition, subtraction, multiplication, or division depending on the user input.\n",
    "\n",
    "## Objectives\n",
    "\n",
    "In this lab you will:\n",
    "\n",
    "- Use a while loop \n",
    "- Incorporate input/output functionality in code to allow for user interaction  \n",
    "- Declare and use a function with arguments \n",
    "- Use break and continue to add control flow to a while loop \n",
    "\n",
    "\n",
    "\n",
    "## Approach \n",
    "\n",
    "- User chooses the desired operation. Options 1, 2, 3, and 4 are valid options for operations   \n",
    "- Two numbers are taken and an `if…elif…else` branching is used to execute a particular section \n",
    "- Using functions `add()`, `subtract()`, `multiply()`, and `divide()` evaluate respective operations \n",
    "- The code should handle exceptions and must return **\"invalid input\"** when an unexpected character is given in the input (anything other than 1 - 4) \n",
    "\n",
    "## Example interface\n",
    "Here is the interface you are expected to build. Don't worry if it is not 100% the same as what is shown. Focus more on the getting the logic correct at this stage. \n",
    "\n",
    "```\n",
    "Please select an operation:\n",
    "1. Add\n",
    "2. Subtract\n",
    "3. Multiply\n",
    "4. Divide\n",
    "\n",
    "Select operations from 1, 2, 3, 4 : 1\n",
    "Enter first number : 20\n",
    "Enter second number : 13\n",
    "20 + 13 = 33\n",
    "```\n",
    "\n",
    "## Creating arithmetic functions\n",
    "\n",
    "We'll create four functions, one for each arithmetic operation which will perform the required operation and return the resulting value as shown below:"
   ]
  },
  {
   "cell_type": "code",
   "execution_count": 6,
   "metadata": {},
   "outputs": [],
   "source": [
    "# Function to add two numbers \n",
    "def add(num1, num2):\n",
    "    return num1 + num2"
   ]
  },
  {
   "cell_type": "code",
   "execution_count": 7,
   "metadata": {},
   "outputs": [],
   "source": [
    "# Function to subtract two numbers \n",
    "def subtract(num1, num2):\n",
    "    return num1 - num2"
   ]
  },
  {
   "cell_type": "code",
   "execution_count": 8,
   "metadata": {},
   "outputs": [],
   "source": [
    "# Function to multiply two numbers\n",
    "def multiply(num1, num2):\n",
    "    return num1 * num2"
   ]
  },
  {
   "cell_type": "code",
   "execution_count": 9,
   "metadata": {},
   "outputs": [],
   "source": [
    "# Function to divide two numbers\n",
    "def divide(num1, num2):\n",
    "    return num1 / num2"
   ]
  },
  {
   "cell_type": "markdown",
   "metadata": {},
   "source": [
    "## Create a command-line user interface\n",
    "We'll now write the main program body to take user input and call the relevant function:"
   ]
  },
  {
   "cell_type": "code",
   "execution_count": 10,
   "metadata": {},
   "outputs": [
    {
     "name": "stdout",
     "output_type": "stream",
     "text": [
      "Please choose an operation (by number): \n",
      " 1. Add \n",
      " 2. Subtract \n",
      " 3. Multiply \n",
      " 4. Divide \n",
      "3\n",
      "Please enter your first number: 3\n",
      "Please enter your second number: 3\n",
      "\n",
      "3 * 3 = 9\n"
     ]
    }
   ],
   "source": [
    "\n",
    "\n",
    "user_input = input(\"Please choose an operation (by number): \\n 1. Add \\n 2. Subtract \\n 3. Multiply \\n 4. Divide \\n\")\n",
    "num1 = int(input('Please enter your first number: '))\n",
    "num2 = int(input('Please enter your second number: '))\n",
    "\n",
    "if user_input == '1':\n",
    "    print()\n",
    "    print(num1, '+', num2, '=', add(num1, num2))\n",
    "elif user_input == '2':\n",
    "    print()\n",
    "    print(num1, '-', num2, '=', subtract(num1, num2))\n",
    "elif user_input == '3':\n",
    "    print()\n",
    "    print(num1, '*', num2, '=', multiply(num1, num2))\n",
    "elif user_input == '4':\n",
    "    print()\n",
    "    print(num1, '/', num2, '=', divide(num1, num2))\n",
    "else:\n",
    "    print(\"Error.  You did not input the correct operation.\")\n",
    "    print()"
   ]
  },
  {
   "cell_type": "markdown",
   "metadata": {},
   "source": [
    "### Please select operation -\n",
    "1. Add\n",
    "2. Subtract\n",
    "3. Multiply\n",
    "4. Divide\n",
    "\n",
    "Select operations from 1, 2, 3, 4 :1    \n",
    "Enter first number: 2    \n",
    "Enter second number: 3    \n",
    "2 + 3 = 5 "
   ]
  },
  {
   "cell_type": "markdown",
   "metadata": {},
   "source": [
    "## Bring in the `while` loop\n",
    "\n",
    "We can see how the logic set by using `if-else` statements, along with functions can be used to control the flow of the program in an easy way. Let's add more functionality to our calculator as below:\n",
    "\n",
    "> Let's try to make it a bit more interesting by introducing the behaviour of a real calculator so our users can choose to either continue with calculations OR exit the system. Users gets this functionality by pressing `y` for yes and `n` for no towards continuation.\n",
    "\n",
    "## Example interface\n",
    "\n",
    "**Notice `continue: y/n` at the bottom of interface.**\n",
    "\n",
    "```\n",
    "Please select an operation:\n",
    "1. Add\n",
    "2. Subtract\n",
    "3. Multiply\n",
    "4. Divide\n",
    "\n",
    "Select operations from 1, 2, 3, 4 : 1\n",
    "Enter first number : 20\n",
    "Enter second number : 13\n",
    "20 + 13 = 33\n",
    "\n",
    "Continue: y/n\n",
    "```\n",
    "\n",
    "Let's work towards implementing iteration into the equation and enclose above I/O interface inside a `while` loop."
   ]
  },
  {
   "cell_type": "code",
   "execution_count": 12,
   "metadata": {},
   "outputs": [
    {
     "name": "stdout",
     "output_type": "stream",
     "text": [
      "Please choose an operation (by number): \n",
      " 1. Add \n",
      " 2. Subtract \n",
      " 3. Multiply \n",
      " 4. Divide \n",
      "2\n",
      "Please enter your first number: 2\n",
      "Please enter your second number: 2\n",
      "\n",
      "2 - 2 = 0\n",
      "Would you like to continue? y/ny\n",
      "Please choose an operation (by number): \n",
      " 1. Add \n",
      " 2. Subtract \n",
      " 3. Multiply \n",
      " 4. Divide \n",
      "2\n",
      "Please enter your first number: 3\n",
      "Please enter your second number: 4\n",
      "\n",
      "3 - 4 = -1\n",
      "Would you like to continue? y/nn\n"
     ]
    }
   ],
   "source": [
    "# Initialize the code with cont (continue) flag set to yes (y)\n",
    "\n",
    "user_continue = 'y'\n",
    "while user_continue == 'y':\n",
    "    user_input = input(\"Please choose an operation (by number): \\n 1. Add \\n 2. Subtract \\n 3. Multiply \\n 4. Divide \\n\")\n",
    "    num1 = int(input('Please enter your first number: '))\n",
    "    num2 = int(input('Please enter your second number: '))\n",
    "\n",
    "    if user_input == '1':\n",
    "        print()\n",
    "        print(num1, '+', num2, '=', add(num1, num2))\n",
    "    elif user_input == '2':\n",
    "        print()\n",
    "        print(num1, '-', num2, '=', subtract(num1, num2)) \n",
    "    elif user_input == '3':\n",
    "        print()\n",
    "        print(num1, '*', num2, '=', multiply(num1, num2))\n",
    "    elif user_input == '4':\n",
    "        print()\n",
    "        print(num1, '/', num2, '=', divide(num1, num2))\n",
    "    else:\n",
    "        print(\"Error.  You did not input the correct operation.\")\n",
    "    \n",
    "    user_continue = input('Would you like to continue? y/n')\n",
    "    if user_continue == 'n':\n",
    "        break"
   ]
  },
  {
   "cell_type": "markdown",
   "metadata": {},
   "source": [
    "## Level up (Optional)\n",
    "\n",
    "The `while` loop shown above allows the iteration through the code until a specific input from user i.e. `n` is noticed. Let's add some more functionality to this code by asking users about the type of division they are interested in, and this could be either normal division (as before) or a modulo operator (shows remainder).\n",
    "\n",
    "> Change the code in the division function so that if a user selects division operation, the code should ask the user if he/she wants a normal division `/` or floor division `//`, or a modulo division `%` which only returns the remainder of a division. The program should return an exception for any other inputs. "
   ]
  },
  {
   "cell_type": "code",
   "execution_count": 13,
   "metadata": {},
   "outputs": [],
   "source": [
    "def divide_v2(num1, num2):\n",
    "    divide_choice = input(\"Which type of division would you like to use? (/, //, %)\")\n",
    "    if divide_choice == '/':\n",
    "        return num1 / num2\n",
    "    elif divide_choice == '//':\n",
    "        return num1 // num2\n",
    "    elif divide_choice == '%':\n",
    "        return num1 % num2\n",
    "    else:\n",
    "        return 'Error.  Invalid entry.'"
   ]
  },
  {
   "cell_type": "code",
   "execution_count": 14,
   "metadata": {},
   "outputs": [
    {
     "name": "stdout",
     "output_type": "stream",
     "text": [
      "Which type of division would you like to use? (/, //, %)/\n"
     ]
    },
    {
     "data": {
      "text/plain": [
       "3.0"
      ]
     },
     "execution_count": 14,
     "metadata": {},
     "output_type": "execute_result"
    }
   ],
   "source": [
    "divide_v2(3, 1)"
   ]
  },
  {
   "cell_type": "code",
   "execution_count": null,
   "metadata": {},
   "outputs": [
    {
     "name": "stdout",
     "output_type": "stream",
     "text": [
      "Please choose an operation (by number): \n",
      " 1. Add \n",
      " 2. Subtract \n",
      " 3. Multiply \n",
      " 4. Divide \n",
      "4\n",
      "Please enter your first number: 2\n",
      "Please enter your second number: 2\n",
      "\n",
      "Which type of division would you like to use? (/, //, %)%\n",
      "2 / 2 = 0\n"
     ]
    }
   ],
   "source": [
    "user_continue = 'y'\n",
    "while user_continue == 'y':\n",
    "    user_input = input(\"Please choose an operation (by number): \\n 1. Add \\n 2. Subtract \\n 3. Multiply \\n 4. Divide \\n\")\n",
    "    num1 = int(input('Please enter your first number: '))\n",
    "    num2 = int(input('Please enter your second number: '))\n",
    "\n",
    "    if user_input == '1':\n",
    "        print()\n",
    "        print(num1, '+', num2, '=', add(num1, num2))\n",
    "    elif user_input == '2':\n",
    "        print()\n",
    "        print(num1, '-', num2, '=', subtract(num1, num2)) \n",
    "    elif user_input == '3':\n",
    "        print()\n",
    "        print(num1, '*', num2, '=', multiply(num1, num2))\n",
    "    elif user_input == '4':\n",
    "        print()\n",
    "        print(num1, '/', num2, '=', divide_v2(num1, num2))\n",
    "    else:\n",
    "        print(\"Error.  You did not input the correct operation.\")\n",
    "    \n",
    "    user_continue = input('Would you like to continue? y/n')\n",
    "    if user_continue == 'n':\n",
    "        break"
   ]
  },
  {
   "cell_type": "markdown",
   "metadata": {},
   "source": [
    "## Summary\n",
    "\n",
    "In this lab, we saw how loops and conditions can be used to control the logic of a program execution based on user input. We started with building a simple calculator and incrementally added more functionality to it by adding loops for iteration and further conditions allowing different types of calculations. We also practiced user I/O by taking choices from the users and dealing with exceptions (unexpected input). "
   ]
  }
 ],
 "metadata": {
  "kernelspec": {
   "display_name": "Python 3",
   "language": "python",
   "name": "python3"
  },
  "language_info": {
   "codemirror_mode": {
    "name": "ipython",
    "version": 3
   },
   "file_extension": ".py",
   "mimetype": "text/x-python",
   "name": "python",
   "nbconvert_exporter": "python",
   "pygments_lexer": "ipython3",
   "version": "3.6.9"
  }
 },
 "nbformat": 4,
 "nbformat_minor": 2
}
